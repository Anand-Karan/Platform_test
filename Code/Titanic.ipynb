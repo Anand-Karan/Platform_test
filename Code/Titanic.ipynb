{
 "cells": [
  {
   "cell_type": "code",
   "execution_count": 1,
   "id": "dab47229-b64e-45e7-9f4a-5f7cb66d7806",
   "metadata": {
    "execution": {
     "iopub.execute_input": "2023-06-20T17:57:06.541314Z",
     "iopub.status.busy": "2023-06-20T17:57:06.540914Z",
     "iopub.status.idle": "2023-06-20T17:57:06.549179Z",
     "shell.execute_reply": "2023-06-20T17:57:06.548275Z",
     "shell.execute_reply.started": "2023-06-20T17:57:06.541288Z"
    },
    "tags": []
   },
   "outputs": [
    {
     "name": "stdout",
     "output_type": "stream",
     "text": [
      "/home/jovyan/workspace/Platform_test\n"
     ]
    }
   ],
   "source": [
    "import os\n",
    "\n",
    "new_directory = '/home/jovyan/workspace/Platform_test'\n",
    "os.chdir(new_directory)\n",
    "\n",
    "cwd = os.getcwd()\n",
    "print(cwd)"
   ]
  },
  {
   "cell_type": "code",
   "execution_count": 2,
   "id": "08273f3d-874b-4779-9d2e-8dcd324bbde9",
   "metadata": {
    "execution": {
     "iopub.execute_input": "2023-06-20T17:57:07.276185Z",
     "iopub.status.busy": "2023-06-20T17:57:07.275817Z",
     "iopub.status.idle": "2023-06-20T17:57:10.273790Z",
     "shell.execute_reply": "2023-06-20T17:57:10.273096Z",
     "shell.execute_reply.started": "2023-06-20T17:57:07.276157Z"
    },
    "tags": []
   },
   "outputs": [],
   "source": [
    "import pandas as pd\n",
    "import seaborn as sns\n",
    "import matplotlib.pyplot as plt"
   ]
  },
  {
   "cell_type": "code",
   "execution_count": 10,
   "id": "a48b3543-e1cc-44dc-af43-312371f7b640",
   "metadata": {
    "execution": {
     "iopub.execute_input": "2023-06-20T18:17:26.847137Z",
     "iopub.status.busy": "2023-06-20T18:17:26.846757Z",
     "iopub.status.idle": "2023-06-20T18:17:26.854987Z",
     "shell.execute_reply": "2023-06-20T18:17:26.854417Z",
     "shell.execute_reply.started": "2023-06-20T18:17:26.847112Z"
    },
    "tags": []
   },
   "outputs": [],
   "source": [
    "data = pd.read_csv('Data/titanic.csv')\n",
    "data = data.rename(columns = {'SibSp':'family_members','Parch':'parents','Embarked':'port'})"
   ]
  },
  {
   "cell_type": "code",
   "execution_count": 11,
   "id": "17b0df0d-1c8f-4b7a-8ad4-bf19ce8fd92f",
   "metadata": {
    "execution": {
     "iopub.execute_input": "2023-06-20T18:17:27.602303Z",
     "iopub.status.busy": "2023-06-20T18:17:27.601938Z",
     "iopub.status.idle": "2023-06-20T18:17:27.613651Z",
     "shell.execute_reply": "2023-06-20T18:17:27.612985Z",
     "shell.execute_reply.started": "2023-06-20T18:17:27.602277Z"
    },
    "tags": []
   },
   "outputs": [
    {
     "data": {
      "text/html": [
       "<div>\n",
       "<style scoped>\n",
       "    .dataframe tbody tr th:only-of-type {\n",
       "        vertical-align: middle;\n",
       "    }\n",
       "\n",
       "    .dataframe tbody tr th {\n",
       "        vertical-align: top;\n",
       "    }\n",
       "\n",
       "    .dataframe thead th {\n",
       "        text-align: right;\n",
       "    }\n",
       "</style>\n",
       "<table border=\"1\" class=\"dataframe\">\n",
       "  <thead>\n",
       "    <tr style=\"text-align: right;\">\n",
       "      <th></th>\n",
       "      <th>PassengerId</th>\n",
       "      <th>Survived</th>\n",
       "      <th>Pclass</th>\n",
       "      <th>Name</th>\n",
       "      <th>Sex</th>\n",
       "      <th>Age</th>\n",
       "      <th>family_members</th>\n",
       "      <th>parents</th>\n",
       "      <th>Ticket</th>\n",
       "      <th>Fare</th>\n",
       "      <th>Cabin</th>\n",
       "      <th>port</th>\n",
       "    </tr>\n",
       "  </thead>\n",
       "  <tbody>\n",
       "    <tr>\n",
       "      <th>0</th>\n",
       "      <td>1</td>\n",
       "      <td>0</td>\n",
       "      <td>3</td>\n",
       "      <td>Braund, Mr. Owen Harris</td>\n",
       "      <td>male</td>\n",
       "      <td>22.0</td>\n",
       "      <td>1</td>\n",
       "      <td>0</td>\n",
       "      <td>A/5 21171</td>\n",
       "      <td>7.2500</td>\n",
       "      <td>NaN</td>\n",
       "      <td>S</td>\n",
       "    </tr>\n",
       "    <tr>\n",
       "      <th>1</th>\n",
       "      <td>2</td>\n",
       "      <td>1</td>\n",
       "      <td>1</td>\n",
       "      <td>Cumings, Mrs. John Bradley (Florence Briggs Th...</td>\n",
       "      <td>female</td>\n",
       "      <td>38.0</td>\n",
       "      <td>1</td>\n",
       "      <td>0</td>\n",
       "      <td>PC 17599</td>\n",
       "      <td>71.2833</td>\n",
       "      <td>C85</td>\n",
       "      <td>C</td>\n",
       "    </tr>\n",
       "    <tr>\n",
       "      <th>2</th>\n",
       "      <td>3</td>\n",
       "      <td>1</td>\n",
       "      <td>3</td>\n",
       "      <td>Heikkinen, Miss. Laina</td>\n",
       "      <td>female</td>\n",
       "      <td>26.0</td>\n",
       "      <td>0</td>\n",
       "      <td>0</td>\n",
       "      <td>STON/O2. 3101282</td>\n",
       "      <td>7.9250</td>\n",
       "      <td>NaN</td>\n",
       "      <td>S</td>\n",
       "    </tr>\n",
       "    <tr>\n",
       "      <th>3</th>\n",
       "      <td>4</td>\n",
       "      <td>1</td>\n",
       "      <td>1</td>\n",
       "      <td>Futrelle, Mrs. Jacques Heath (Lily May Peel)</td>\n",
       "      <td>female</td>\n",
       "      <td>35.0</td>\n",
       "      <td>1</td>\n",
       "      <td>0</td>\n",
       "      <td>113803</td>\n",
       "      <td>53.1000</td>\n",
       "      <td>C123</td>\n",
       "      <td>S</td>\n",
       "    </tr>\n",
       "    <tr>\n",
       "      <th>4</th>\n",
       "      <td>5</td>\n",
       "      <td>0</td>\n",
       "      <td>3</td>\n",
       "      <td>Allen, Mr. William Henry</td>\n",
       "      <td>male</td>\n",
       "      <td>35.0</td>\n",
       "      <td>0</td>\n",
       "      <td>0</td>\n",
       "      <td>373450</td>\n",
       "      <td>8.0500</td>\n",
       "      <td>NaN</td>\n",
       "      <td>S</td>\n",
       "    </tr>\n",
       "  </tbody>\n",
       "</table>\n",
       "</div>"
      ],
      "text/plain": [
       "   PassengerId  Survived  Pclass  \\\n",
       "0            1         0       3   \n",
       "1            2         1       1   \n",
       "2            3         1       3   \n",
       "3            4         1       1   \n",
       "4            5         0       3   \n",
       "\n",
       "                                                Name     Sex   Age  \\\n",
       "0                            Braund, Mr. Owen Harris    male  22.0   \n",
       "1  Cumings, Mrs. John Bradley (Florence Briggs Th...  female  38.0   \n",
       "2                             Heikkinen, Miss. Laina  female  26.0   \n",
       "3       Futrelle, Mrs. Jacques Heath (Lily May Peel)  female  35.0   \n",
       "4                           Allen, Mr. William Henry    male  35.0   \n",
       "\n",
       "   family_members  parents            Ticket     Fare Cabin port  \n",
       "0               1        0         A/5 21171   7.2500   NaN    S  \n",
       "1               1        0          PC 17599  71.2833   C85    C  \n",
       "2               0        0  STON/O2. 3101282   7.9250   NaN    S  \n",
       "3               1        0            113803  53.1000  C123    S  \n",
       "4               0        0            373450   8.0500   NaN    S  "
      ]
     },
     "execution_count": 11,
     "metadata": {},
     "output_type": "execute_result"
    }
   ],
   "source": [
    "data.head()"
   ]
  },
  {
   "cell_type": "code",
   "execution_count": 12,
   "id": "b2e361ea-eb5b-46f4-8dc3-bd05704131b4",
   "metadata": {
    "execution": {
     "iopub.execute_input": "2023-06-20T18:17:32.419058Z",
     "iopub.status.busy": "2023-06-20T18:17:32.418677Z",
     "iopub.status.idle": "2023-06-20T18:17:32.431022Z",
     "shell.execute_reply": "2023-06-20T18:17:32.430269Z",
     "shell.execute_reply.started": "2023-06-20T18:17:32.419032Z"
    },
    "tags": []
   },
   "outputs": [
    {
     "data": {
      "text/html": [
       "<div>\n",
       "<style scoped>\n",
       "    .dataframe tbody tr th:only-of-type {\n",
       "        vertical-align: middle;\n",
       "    }\n",
       "\n",
       "    .dataframe tbody tr th {\n",
       "        vertical-align: top;\n",
       "    }\n",
       "\n",
       "    .dataframe thead th {\n",
       "        text-align: right;\n",
       "    }\n",
       "</style>\n",
       "<table border=\"1\" class=\"dataframe\">\n",
       "  <thead>\n",
       "    <tr style=\"text-align: right;\">\n",
       "      <th></th>\n",
       "      <th>PassengerId</th>\n",
       "      <th>Pclass</th>\n",
       "      <th>Sex</th>\n",
       "      <th>Age</th>\n",
       "      <th>family_members</th>\n",
       "      <th>parents</th>\n",
       "      <th>Fare</th>\n",
       "      <th>Cabin</th>\n",
       "      <th>port</th>\n",
       "      <th>Survived</th>\n",
       "    </tr>\n",
       "  </thead>\n",
       "  <tbody>\n",
       "    <tr>\n",
       "      <th>0</th>\n",
       "      <td>1</td>\n",
       "      <td>3</td>\n",
       "      <td>male</td>\n",
       "      <td>22.0</td>\n",
       "      <td>1</td>\n",
       "      <td>0</td>\n",
       "      <td>7.2500</td>\n",
       "      <td>NaN</td>\n",
       "      <td>S</td>\n",
       "      <td>0</td>\n",
       "    </tr>\n",
       "    <tr>\n",
       "      <th>1</th>\n",
       "      <td>2</td>\n",
       "      <td>1</td>\n",
       "      <td>female</td>\n",
       "      <td>38.0</td>\n",
       "      <td>1</td>\n",
       "      <td>0</td>\n",
       "      <td>71.2833</td>\n",
       "      <td>C85</td>\n",
       "      <td>C</td>\n",
       "      <td>1</td>\n",
       "    </tr>\n",
       "    <tr>\n",
       "      <th>2</th>\n",
       "      <td>3</td>\n",
       "      <td>3</td>\n",
       "      <td>female</td>\n",
       "      <td>26.0</td>\n",
       "      <td>0</td>\n",
       "      <td>0</td>\n",
       "      <td>7.9250</td>\n",
       "      <td>NaN</td>\n",
       "      <td>S</td>\n",
       "      <td>1</td>\n",
       "    </tr>\n",
       "    <tr>\n",
       "      <th>3</th>\n",
       "      <td>4</td>\n",
       "      <td>1</td>\n",
       "      <td>female</td>\n",
       "      <td>35.0</td>\n",
       "      <td>1</td>\n",
       "      <td>0</td>\n",
       "      <td>53.1000</td>\n",
       "      <td>C123</td>\n",
       "      <td>S</td>\n",
       "      <td>1</td>\n",
       "    </tr>\n",
       "    <tr>\n",
       "      <th>4</th>\n",
       "      <td>5</td>\n",
       "      <td>3</td>\n",
       "      <td>male</td>\n",
       "      <td>35.0</td>\n",
       "      <td>0</td>\n",
       "      <td>0</td>\n",
       "      <td>8.0500</td>\n",
       "      <td>NaN</td>\n",
       "      <td>S</td>\n",
       "      <td>0</td>\n",
       "    </tr>\n",
       "  </tbody>\n",
       "</table>\n",
       "</div>"
      ],
      "text/plain": [
       "   PassengerId  Pclass     Sex   Age  family_members  parents     Fare Cabin  \\\n",
       "0            1       3    male  22.0               1        0   7.2500   NaN   \n",
       "1            2       1  female  38.0               1        0  71.2833   C85   \n",
       "2            3       3  female  26.0               0        0   7.9250   NaN   \n",
       "3            4       1  female  35.0               1        0  53.1000  C123   \n",
       "4            5       3    male  35.0               0        0   8.0500   NaN   \n",
       "\n",
       "  port  Survived  \n",
       "0    S         0  \n",
       "1    C         1  \n",
       "2    S         1  \n",
       "3    S         1  \n",
       "4    S         0  "
      ]
     },
     "execution_count": 12,
     "metadata": {},
     "output_type": "execute_result"
    }
   ],
   "source": [
    "data = data[['PassengerId','Pclass','Sex','Age','family_members','parents','Fare','Cabin','port','Survived']]\n",
    "data.head()"
   ]
  },
  {
   "cell_type": "code",
   "execution_count": 19,
   "id": "d0ad9a88-19a3-47d6-b21e-1042ee7b2f5b",
   "metadata": {
    "execution": {
     "iopub.execute_input": "2023-06-20T18:24:58.325158Z",
     "iopub.status.busy": "2023-06-20T18:24:58.324748Z",
     "iopub.status.idle": "2023-06-20T18:24:58.341708Z",
     "shell.execute_reply": "2023-06-20T18:24:58.341093Z",
     "shell.execute_reply.started": "2023-06-20T18:24:58.325129Z"
    },
    "tags": []
   },
   "outputs": [
    {
     "data": {
      "text/html": [
       "<div>\n",
       "<style scoped>\n",
       "    .dataframe tbody tr th:only-of-type {\n",
       "        vertical-align: middle;\n",
       "    }\n",
       "\n",
       "    .dataframe tbody tr th {\n",
       "        vertical-align: top;\n",
       "    }\n",
       "\n",
       "    .dataframe thead th {\n",
       "        text-align: right;\n",
       "    }\n",
       "</style>\n",
       "<table border=\"1\" class=\"dataframe\">\n",
       "  <thead>\n",
       "    <tr style=\"text-align: right;\">\n",
       "      <th></th>\n",
       "      <th>PassengerId</th>\n",
       "      <th>Age</th>\n",
       "      <th>family_members</th>\n",
       "      <th>parents</th>\n",
       "      <th>Fare</th>\n",
       "      <th>Cabin</th>\n",
       "      <th>Survived</th>\n",
       "      <th>Pclass_2</th>\n",
       "      <th>Pclass_3</th>\n",
       "      <th>Sex_male</th>\n",
       "      <th>port_Q</th>\n",
       "      <th>port_S</th>\n",
       "    </tr>\n",
       "  </thead>\n",
       "  <tbody>\n",
       "    <tr>\n",
       "      <th>0</th>\n",
       "      <td>1</td>\n",
       "      <td>22.0</td>\n",
       "      <td>1</td>\n",
       "      <td>0</td>\n",
       "      <td>7.2500</td>\n",
       "      <td>NaN</td>\n",
       "      <td>0</td>\n",
       "      <td>0</td>\n",
       "      <td>1</td>\n",
       "      <td>1</td>\n",
       "      <td>0</td>\n",
       "      <td>1</td>\n",
       "    </tr>\n",
       "    <tr>\n",
       "      <th>1</th>\n",
       "      <td>2</td>\n",
       "      <td>38.0</td>\n",
       "      <td>1</td>\n",
       "      <td>0</td>\n",
       "      <td>71.2833</td>\n",
       "      <td>C85</td>\n",
       "      <td>1</td>\n",
       "      <td>0</td>\n",
       "      <td>0</td>\n",
       "      <td>0</td>\n",
       "      <td>0</td>\n",
       "      <td>0</td>\n",
       "    </tr>\n",
       "    <tr>\n",
       "      <th>2</th>\n",
       "      <td>3</td>\n",
       "      <td>26.0</td>\n",
       "      <td>0</td>\n",
       "      <td>0</td>\n",
       "      <td>7.9250</td>\n",
       "      <td>NaN</td>\n",
       "      <td>1</td>\n",
       "      <td>0</td>\n",
       "      <td>1</td>\n",
       "      <td>0</td>\n",
       "      <td>0</td>\n",
       "      <td>1</td>\n",
       "    </tr>\n",
       "    <tr>\n",
       "      <th>3</th>\n",
       "      <td>4</td>\n",
       "      <td>35.0</td>\n",
       "      <td>1</td>\n",
       "      <td>0</td>\n",
       "      <td>53.1000</td>\n",
       "      <td>C123</td>\n",
       "      <td>1</td>\n",
       "      <td>0</td>\n",
       "      <td>0</td>\n",
       "      <td>0</td>\n",
       "      <td>0</td>\n",
       "      <td>1</td>\n",
       "    </tr>\n",
       "    <tr>\n",
       "      <th>4</th>\n",
       "      <td>5</td>\n",
       "      <td>35.0</td>\n",
       "      <td>0</td>\n",
       "      <td>0</td>\n",
       "      <td>8.0500</td>\n",
       "      <td>NaN</td>\n",
       "      <td>0</td>\n",
       "      <td>0</td>\n",
       "      <td>1</td>\n",
       "      <td>1</td>\n",
       "      <td>0</td>\n",
       "      <td>1</td>\n",
       "    </tr>\n",
       "    <tr>\n",
       "      <th>5</th>\n",
       "      <td>6</td>\n",
       "      <td>NaN</td>\n",
       "      <td>0</td>\n",
       "      <td>0</td>\n",
       "      <td>8.4583</td>\n",
       "      <td>NaN</td>\n",
       "      <td>0</td>\n",
       "      <td>0</td>\n",
       "      <td>1</td>\n",
       "      <td>1</td>\n",
       "      <td>1</td>\n",
       "      <td>0</td>\n",
       "    </tr>\n",
       "    <tr>\n",
       "      <th>6</th>\n",
       "      <td>7</td>\n",
       "      <td>54.0</td>\n",
       "      <td>0</td>\n",
       "      <td>0</td>\n",
       "      <td>51.8625</td>\n",
       "      <td>E46</td>\n",
       "      <td>0</td>\n",
       "      <td>0</td>\n",
       "      <td>0</td>\n",
       "      <td>1</td>\n",
       "      <td>0</td>\n",
       "      <td>1</td>\n",
       "    </tr>\n",
       "    <tr>\n",
       "      <th>7</th>\n",
       "      <td>8</td>\n",
       "      <td>2.0</td>\n",
       "      <td>3</td>\n",
       "      <td>1</td>\n",
       "      <td>21.0750</td>\n",
       "      <td>NaN</td>\n",
       "      <td>0</td>\n",
       "      <td>0</td>\n",
       "      <td>1</td>\n",
       "      <td>1</td>\n",
       "      <td>0</td>\n",
       "      <td>1</td>\n",
       "    </tr>\n",
       "    <tr>\n",
       "      <th>8</th>\n",
       "      <td>9</td>\n",
       "      <td>27.0</td>\n",
       "      <td>0</td>\n",
       "      <td>2</td>\n",
       "      <td>11.1333</td>\n",
       "      <td>NaN</td>\n",
       "      <td>1</td>\n",
       "      <td>0</td>\n",
       "      <td>1</td>\n",
       "      <td>0</td>\n",
       "      <td>0</td>\n",
       "      <td>1</td>\n",
       "    </tr>\n",
       "    <tr>\n",
       "      <th>9</th>\n",
       "      <td>10</td>\n",
       "      <td>14.0</td>\n",
       "      <td>1</td>\n",
       "      <td>0</td>\n",
       "      <td>30.0708</td>\n",
       "      <td>NaN</td>\n",
       "      <td>1</td>\n",
       "      <td>1</td>\n",
       "      <td>0</td>\n",
       "      <td>0</td>\n",
       "      <td>0</td>\n",
       "      <td>0</td>\n",
       "    </tr>\n",
       "  </tbody>\n",
       "</table>\n",
       "</div>"
      ],
      "text/plain": [
       "   PassengerId   Age  family_members  parents     Fare Cabin  Survived  \\\n",
       "0            1  22.0               1        0   7.2500   NaN         0   \n",
       "1            2  38.0               1        0  71.2833   C85         1   \n",
       "2            3  26.0               0        0   7.9250   NaN         1   \n",
       "3            4  35.0               1        0  53.1000  C123         1   \n",
       "4            5  35.0               0        0   8.0500   NaN         0   \n",
       "5            6   NaN               0        0   8.4583   NaN         0   \n",
       "6            7  54.0               0        0  51.8625   E46         0   \n",
       "7            8   2.0               3        1  21.0750   NaN         0   \n",
       "8            9  27.0               0        2  11.1333   NaN         1   \n",
       "9           10  14.0               1        0  30.0708   NaN         1   \n",
       "\n",
       "   Pclass_2  Pclass_3  Sex_male  port_Q  port_S  \n",
       "0         0         1         1       0       1  \n",
       "1         0         0         0       0       0  \n",
       "2         0         1         0       0       1  \n",
       "3         0         0         0       0       1  \n",
       "4         0         1         1       0       1  \n",
       "5         0         1         1       1       0  \n",
       "6         0         0         1       0       1  \n",
       "7         0         1         1       0       1  \n",
       "8         0         1         0       0       1  \n",
       "9         1         0         0       0       0  "
      ]
     },
     "execution_count": 19,
     "metadata": {},
     "output_type": "execute_result"
    }
   ],
   "source": [
    "data2 = pd.get_dummies(data, columns=['Pclass','Sex','port'], drop_first=True)\n",
    "data2.head(10)\n"
   ]
  },
  {
   "cell_type": "markdown",
   "id": "0b324100-b918-43a3-b691-1a5ab790805c",
   "metadata": {},
   "source": [
    "## EDA"
   ]
  },
  {
   "cell_type": "code",
   "execution_count": 15,
   "id": "2cd4db1b-2d0d-401b-9c19-90bcaa8bb7d0",
   "metadata": {
    "execution": {
     "iopub.execute_input": "2023-06-20T18:22:46.500489Z",
     "iopub.status.busy": "2023-06-20T18:22:46.500106Z",
     "iopub.status.idle": "2023-06-20T18:22:46.532593Z",
     "shell.execute_reply": "2023-06-20T18:22:46.531979Z",
     "shell.execute_reply.started": "2023-06-20T18:22:46.500464Z"
    },
    "tags": []
   },
   "outputs": [
    {
     "data": {
      "text/html": [
       "<div>\n",
       "<style scoped>\n",
       "    .dataframe tbody tr th:only-of-type {\n",
       "        vertical-align: middle;\n",
       "    }\n",
       "\n",
       "    .dataframe tbody tr th {\n",
       "        vertical-align: top;\n",
       "    }\n",
       "\n",
       "    .dataframe thead th {\n",
       "        text-align: right;\n",
       "    }\n",
       "</style>\n",
       "<table border=\"1\" class=\"dataframe\">\n",
       "  <thead>\n",
       "    <tr style=\"text-align: right;\">\n",
       "      <th></th>\n",
       "      <th>PassengerId</th>\n",
       "      <th>Age</th>\n",
       "      <th>family_members</th>\n",
       "      <th>parents</th>\n",
       "      <th>Fare</th>\n",
       "      <th>Survived</th>\n",
       "      <th>Pclass_2</th>\n",
       "      <th>Pclass_3</th>\n",
       "      <th>Sex_male</th>\n",
       "      <th>port_Q</th>\n",
       "      <th>port_S</th>\n",
       "    </tr>\n",
       "  </thead>\n",
       "  <tbody>\n",
       "    <tr>\n",
       "      <th>count</th>\n",
       "      <td>891.000000</td>\n",
       "      <td>714.000000</td>\n",
       "      <td>891.000000</td>\n",
       "      <td>891.000000</td>\n",
       "      <td>891.000000</td>\n",
       "      <td>891.000000</td>\n",
       "      <td>891.000000</td>\n",
       "      <td>891.000000</td>\n",
       "      <td>891.000000</td>\n",
       "      <td>891.000000</td>\n",
       "      <td>891.000000</td>\n",
       "    </tr>\n",
       "    <tr>\n",
       "      <th>mean</th>\n",
       "      <td>446.000000</td>\n",
       "      <td>29.699118</td>\n",
       "      <td>0.523008</td>\n",
       "      <td>0.381594</td>\n",
       "      <td>32.204208</td>\n",
       "      <td>0.383838</td>\n",
       "      <td>0.206510</td>\n",
       "      <td>0.551066</td>\n",
       "      <td>0.647587</td>\n",
       "      <td>0.086420</td>\n",
       "      <td>0.722783</td>\n",
       "    </tr>\n",
       "    <tr>\n",
       "      <th>std</th>\n",
       "      <td>257.353842</td>\n",
       "      <td>14.526497</td>\n",
       "      <td>1.102743</td>\n",
       "      <td>0.806057</td>\n",
       "      <td>49.693429</td>\n",
       "      <td>0.486592</td>\n",
       "      <td>0.405028</td>\n",
       "      <td>0.497665</td>\n",
       "      <td>0.477990</td>\n",
       "      <td>0.281141</td>\n",
       "      <td>0.447876</td>\n",
       "    </tr>\n",
       "    <tr>\n",
       "      <th>min</th>\n",
       "      <td>1.000000</td>\n",
       "      <td>0.420000</td>\n",
       "      <td>0.000000</td>\n",
       "      <td>0.000000</td>\n",
       "      <td>0.000000</td>\n",
       "      <td>0.000000</td>\n",
       "      <td>0.000000</td>\n",
       "      <td>0.000000</td>\n",
       "      <td>0.000000</td>\n",
       "      <td>0.000000</td>\n",
       "      <td>0.000000</td>\n",
       "    </tr>\n",
       "    <tr>\n",
       "      <th>25%</th>\n",
       "      <td>223.500000</td>\n",
       "      <td>20.125000</td>\n",
       "      <td>0.000000</td>\n",
       "      <td>0.000000</td>\n",
       "      <td>7.910400</td>\n",
       "      <td>0.000000</td>\n",
       "      <td>0.000000</td>\n",
       "      <td>0.000000</td>\n",
       "      <td>0.000000</td>\n",
       "      <td>0.000000</td>\n",
       "      <td>0.000000</td>\n",
       "    </tr>\n",
       "    <tr>\n",
       "      <th>50%</th>\n",
       "      <td>446.000000</td>\n",
       "      <td>28.000000</td>\n",
       "      <td>0.000000</td>\n",
       "      <td>0.000000</td>\n",
       "      <td>14.454200</td>\n",
       "      <td>0.000000</td>\n",
       "      <td>0.000000</td>\n",
       "      <td>1.000000</td>\n",
       "      <td>1.000000</td>\n",
       "      <td>0.000000</td>\n",
       "      <td>1.000000</td>\n",
       "    </tr>\n",
       "    <tr>\n",
       "      <th>75%</th>\n",
       "      <td>668.500000</td>\n",
       "      <td>38.000000</td>\n",
       "      <td>1.000000</td>\n",
       "      <td>0.000000</td>\n",
       "      <td>31.000000</td>\n",
       "      <td>1.000000</td>\n",
       "      <td>0.000000</td>\n",
       "      <td>1.000000</td>\n",
       "      <td>1.000000</td>\n",
       "      <td>0.000000</td>\n",
       "      <td>1.000000</td>\n",
       "    </tr>\n",
       "    <tr>\n",
       "      <th>max</th>\n",
       "      <td>891.000000</td>\n",
       "      <td>80.000000</td>\n",
       "      <td>8.000000</td>\n",
       "      <td>6.000000</td>\n",
       "      <td>512.329200</td>\n",
       "      <td>1.000000</td>\n",
       "      <td>1.000000</td>\n",
       "      <td>1.000000</td>\n",
       "      <td>1.000000</td>\n",
       "      <td>1.000000</td>\n",
       "      <td>1.000000</td>\n",
       "    </tr>\n",
       "  </tbody>\n",
       "</table>\n",
       "</div>"
      ],
      "text/plain": [
       "       PassengerId         Age  family_members     parents        Fare  \\\n",
       "count   891.000000  714.000000      891.000000  891.000000  891.000000   \n",
       "mean    446.000000   29.699118        0.523008    0.381594   32.204208   \n",
       "std     257.353842   14.526497        1.102743    0.806057   49.693429   \n",
       "min       1.000000    0.420000        0.000000    0.000000    0.000000   \n",
       "25%     223.500000   20.125000        0.000000    0.000000    7.910400   \n",
       "50%     446.000000   28.000000        0.000000    0.000000   14.454200   \n",
       "75%     668.500000   38.000000        1.000000    0.000000   31.000000   \n",
       "max     891.000000   80.000000        8.000000    6.000000  512.329200   \n",
       "\n",
       "         Survived    Pclass_2    Pclass_3    Sex_male      port_Q      port_S  \n",
       "count  891.000000  891.000000  891.000000  891.000000  891.000000  891.000000  \n",
       "mean     0.383838    0.206510    0.551066    0.647587    0.086420    0.722783  \n",
       "std      0.486592    0.405028    0.497665    0.477990    0.281141    0.447876  \n",
       "min      0.000000    0.000000    0.000000    0.000000    0.000000    0.000000  \n",
       "25%      0.000000    0.000000    0.000000    0.000000    0.000000    0.000000  \n",
       "50%      0.000000    0.000000    1.000000    1.000000    0.000000    1.000000  \n",
       "75%      1.000000    0.000000    1.000000    1.000000    0.000000    1.000000  \n",
       "max      1.000000    1.000000    1.000000    1.000000    1.000000    1.000000  "
      ]
     },
     "execution_count": 15,
     "metadata": {},
     "output_type": "execute_result"
    }
   ],
   "source": [
    "data2.describe()"
   ]
  },
  {
   "cell_type": "code",
   "execution_count": 17,
   "id": "092a9866-77b0-477e-9afa-eb5201807da4",
   "metadata": {
    "execution": {
     "iopub.execute_input": "2023-06-20T18:23:57.373427Z",
     "iopub.status.busy": "2023-06-20T18:23:57.373038Z",
     "iopub.status.idle": "2023-06-20T18:23:57.994520Z",
     "shell.execute_reply": "2023-06-20T18:23:57.993796Z",
     "shell.execute_reply.started": "2023-06-20T18:23:57.373402Z"
    },
    "tags": []
   },
   "outputs": [
    {
     "data": {
      "image/png": "[encoded data removed]",
      "text/plain": [
       "<Figure size 1000x800 with 2 Axes>"
      ]
     },
     "metadata": {},
     "output_type": "display_data"
    }
   ],
   "source": [
    "correlation_matrix = data2.corr()\n",
    "\n",
    "# Create a heatmap\n",
    "plt.figure(figsize=(10, 8))\n",
    "sns.heatmap(correlation_matrix, annot=True, cmap='coolwarm', square=True)\n",
    "\n",
    "# Add title and display the plot\n",
    "plt.title('Correlation Matrix')\n",
    "plt.show()"
   ]
  },
  {
   "cell_type": "code",
   "execution_count": 18,
   "id": "73326028-7085-4fbf-9714-b1afc41aba1e",
   "metadata": {
    "execution": {
     "iopub.execute_input": "2023-06-20T18:24:45.732547Z",
     "iopub.status.busy": "2023-06-20T18:24:45.732163Z",
     "iopub.status.idle": "2023-06-20T18:24:45.891784Z",
     "shell.execute_reply": "2023-06-20T18:24:45.891091Z",
     "shell.execute_reply.started": "2023-06-20T18:24:45.732525Z"
    },
    "tags": []
   },
   "outputs": [
    {
     "data": {
      "image/png": "[encoded data removed]",
      "text/plain": [
       "<Figure size 800x600 with 1 Axes>"
      ]
     },
     "metadata": {},
     "output_type": "display_data"
    }
   ],
   "source": [
    "data.boxplot(column='Fare', by='Pclass', figsize=(8, 6))\n",
    "\n",
    "# Add labels and title\n",
    "plt.xlabel('Class')\n",
    "plt.ylabel('Fare')\n",
    "plt.title('Fare Distribution by Class')\n",
    "\n",
    "# Display the plot\n",
    "plt.show()"
   ]
  },
  {
   "cell_type": "code",
   "execution_count": 23,
   "id": "07248535-4319-49b3-8b2f-25bf3878f95f",
   "metadata": {
    "execution": {
     "iopub.execute_input": "2023-06-20T18:27:08.636858Z",
     "iopub.status.busy": "2023-06-20T18:27:08.636475Z",
     "iopub.status.idle": "2023-06-20T18:27:08.644699Z",
     "shell.execute_reply": "2023-06-20T18:27:08.644000Z",
     "shell.execute_reply.started": "2023-06-20T18:27:08.636833Z"
    },
    "tags": []
   },
   "outputs": [
    {
     "data": {
      "text/plain": [
       "PassengerId       False\n",
       "Age               False\n",
       "family_members    False\n",
       "parents           False\n",
       "Fare              False\n",
       "Cabin              True\n",
       "Survived          False\n",
       "Pclass_2          False\n",
       "Pclass_3          False\n",
       "Sex_male          False\n",
       "port_Q            False\n",
       "port_S            False\n",
       "dtype: bool"
      ]
     },
     "execution_count": 23,
     "metadata": {},
     "output_type": "execute_result"
    }
   ],
   "source": [
    "data2.isna().any()"
   ]
  },
  {
   "cell_type": "code",
   "execution_count": 21,
   "id": "2776f850-c08e-472c-bc59-663c1ed815af",
   "metadata": {
    "execution": {
     "iopub.execute_input": "2023-06-20T18:25:28.732589Z",
     "iopub.status.busy": "2023-06-20T18:25:28.732191Z",
     "iopub.status.idle": "2023-06-20T18:25:28.743530Z",
     "shell.execute_reply": "2023-06-20T18:25:28.742740Z",
     "shell.execute_reply.started": "2023-06-20T18:25:28.732565Z"
    }
   },
   "outputs": [
    {
     "data": {
      "text/html": [
       "<div>\n",
       "<style scoped>\n",
       "    .dataframe tbody tr th:only-of-type {\n",
       "        vertical-align: middle;\n",
       "    }\n",
       "\n",
       "    .dataframe tbody tr th {\n",
       "        vertical-align: top;\n",
       "    }\n",
       "\n",
       "    .dataframe thead th {\n",
       "        text-align: right;\n",
       "    }\n",
       "</style>\n",
       "<table border=\"1\" class=\"dataframe\">\n",
       "  <thead>\n",
       "    <tr style=\"text-align: right;\">\n",
       "      <th></th>\n",
       "      <th>PassengerId</th>\n",
       "      <th>Age</th>\n",
       "      <th>family_members</th>\n",
       "      <th>parents</th>\n",
       "      <th>Fare</th>\n",
       "      <th>Cabin</th>\n",
       "      <th>Survived</th>\n",
       "      <th>Pclass_2</th>\n",
       "      <th>Pclass_3</th>\n",
       "      <th>Sex_male</th>\n",
       "      <th>port_Q</th>\n",
       "      <th>port_S</th>\n",
       "    </tr>\n",
       "  </thead>\n",
       "  <tbody>\n",
       "    <tr>\n",
       "      <th>0</th>\n",
       "      <td>1</td>\n",
       "      <td>22.0</td>\n",
       "      <td>1</td>\n",
       "      <td>0</td>\n",
       "      <td>7.2500</td>\n",
       "      <td>NaN</td>\n",
       "      <td>0</td>\n",
       "      <td>0</td>\n",
       "      <td>1</td>\n",
       "      <td>1</td>\n",
       "      <td>0</td>\n",
       "      <td>1</td>\n",
       "    </tr>\n",
       "    <tr>\n",
       "      <th>1</th>\n",
       "      <td>2</td>\n",
       "      <td>38.0</td>\n",
       "      <td>1</td>\n",
       "      <td>0</td>\n",
       "      <td>71.2833</td>\n",
       "      <td>C85</td>\n",
       "      <td>1</td>\n",
       "      <td>0</td>\n",
       "      <td>0</td>\n",
       "      <td>0</td>\n",
       "      <td>0</td>\n",
       "      <td>0</td>\n",
       "    </tr>\n",
       "    <tr>\n",
       "      <th>2</th>\n",
       "      <td>3</td>\n",
       "      <td>26.0</td>\n",
       "      <td>0</td>\n",
       "      <td>0</td>\n",
       "      <td>7.9250</td>\n",
       "      <td>NaN</td>\n",
       "      <td>1</td>\n",
       "      <td>0</td>\n",
       "      <td>1</td>\n",
       "      <td>0</td>\n",
       "      <td>0</td>\n",
       "      <td>1</td>\n",
       "    </tr>\n",
       "    <tr>\n",
       "      <th>3</th>\n",
       "      <td>4</td>\n",
       "      <td>35.0</td>\n",
       "      <td>1</td>\n",
       "      <td>0</td>\n",
       "      <td>53.1000</td>\n",
       "      <td>C123</td>\n",
       "      <td>1</td>\n",
       "      <td>0</td>\n",
       "      <td>0</td>\n",
       "      <td>0</td>\n",
       "      <td>0</td>\n",
       "      <td>1</td>\n",
       "    </tr>\n",
       "    <tr>\n",
       "      <th>4</th>\n",
       "      <td>5</td>\n",
       "      <td>35.0</td>\n",
       "      <td>0</td>\n",
       "      <td>0</td>\n",
       "      <td>8.0500</td>\n",
       "      <td>NaN</td>\n",
       "      <td>0</td>\n",
       "      <td>0</td>\n",
       "      <td>1</td>\n",
       "      <td>1</td>\n",
       "      <td>0</td>\n",
       "      <td>1</td>\n",
       "    </tr>\n",
       "  </tbody>\n",
       "</table>\n",
       "</div>"
      ],
      "text/plain": [
       "   PassengerId   Age  family_members  parents     Fare Cabin  Survived  \\\n",
       "0            1  22.0               1        0   7.2500   NaN         0   \n",
       "1            2  38.0               1        0  71.2833   C85         1   \n",
       "2            3  26.0               0        0   7.9250   NaN         1   \n",
       "3            4  35.0               1        0  53.1000  C123         1   \n",
       "4            5  35.0               0        0   8.0500   NaN         0   \n",
       "\n",
       "   Pclass_2  Pclass_3  Sex_male  port_Q  port_S  \n",
       "0         0         1         1       0       1  \n",
       "1         0         0         0       0       0  \n",
       "2         0         1         0       0       1  \n",
       "3         0         0         0       0       1  \n",
       "4         0         1         1       0       1  "
      ]
     },
     "execution_count": 21,
     "metadata": {},
     "output_type": "execute_result"
    }
   ],
   "source": [
    "data2.head()"
   ]
  },
  {
   "cell_type": "code",
   "execution_count": 22,
   "id": "0e2b6b69-d765-4bf6-a361-6f7f9e85215d",
   "metadata": {
    "execution": {
     "iopub.execute_input": "2023-06-20T18:27:05.347494Z",
     "iopub.status.busy": "2023-06-20T18:27:05.347103Z",
     "iopub.status.idle": "2023-06-20T18:27:05.352476Z",
     "shell.execute_reply": "2023-06-20T18:27:05.351738Z",
     "shell.execute_reply.started": "2023-06-20T18:27:05.347469Z"
    }
   },
   "outputs": [],
   "source": [
    "data2['Age'] = data2['Age'].fillna(data2['Age'].mean())"
   ]
  },
  {
   "cell_type": "code",
   "execution_count": 27,
   "id": "610b1d1e-62d7-4952-a944-36ad63141fb7",
   "metadata": {
    "execution": {
     "iopub.execute_input": "2023-06-20T18:28:02.194037Z",
     "iopub.status.busy": "2023-06-20T18:28:02.193644Z",
     "iopub.status.idle": "2023-06-20T18:28:02.199042Z",
     "shell.execute_reply": "2023-06-20T18:28:02.198246Z",
     "shell.execute_reply.started": "2023-06-20T18:28:02.194010Z"
    },
    "tags": []
   },
   "outputs": [],
   "source": [
    "data2 = data2.drop('Cabin', axis = 1)"
   ]
  },
  {
   "cell_type": "code",
   "execution_count": 28,
   "id": "3ceab94e-1c30-401d-a7ea-2ba8c151bbec",
   "metadata": {
    "execution": {
     "iopub.execute_input": "2023-06-20T18:28:06.997811Z",
     "iopub.status.busy": "2023-06-20T18:28:06.997425Z",
     "iopub.status.idle": "2023-06-20T18:28:07.008392Z",
     "shell.execute_reply": "2023-06-20T18:28:07.007748Z",
     "shell.execute_reply.started": "2023-06-20T18:28:06.997786Z"
    },
    "tags": []
   },
   "outputs": [
    {
     "data": {
      "text/html": [
       "<div>\n",
       "<style scoped>\n",
       "    .dataframe tbody tr th:only-of-type {\n",
       "        vertical-align: middle;\n",
       "    }\n",
       "\n",
       "    .dataframe tbody tr th {\n",
       "        vertical-align: top;\n",
       "    }\n",
       "\n",
       "    .dataframe thead th {\n",
       "        text-align: right;\n",
       "    }\n",
       "</style>\n",
       "<table border=\"1\" class=\"dataframe\">\n",
       "  <thead>\n",
       "    <tr style=\"text-align: right;\">\n",
       "      <th></th>\n",
       "      <th>PassengerId</th>\n",
       "      <th>Age</th>\n",
       "      <th>family_members</th>\n",
       "      <th>parents</th>\n",
       "      <th>Fare</th>\n",
       "      <th>Survived</th>\n",
       "      <th>Pclass_2</th>\n",
       "      <th>Pclass_3</th>\n",
       "      <th>Sex_male</th>\n",
       "      <th>port_Q</th>\n",
       "      <th>port_S</th>\n",
       "    </tr>\n",
       "  </thead>\n",
       "  <tbody>\n",
       "    <tr>\n",
       "      <th>0</th>\n",
       "      <td>1</td>\n",
       "      <td>22.0</td>\n",
       "      <td>1</td>\n",
       "      <td>0</td>\n",
       "      <td>7.2500</td>\n",
       "      <td>0</td>\n",
       "      <td>0</td>\n",
       "      <td>1</td>\n",
       "      <td>1</td>\n",
       "      <td>0</td>\n",
       "      <td>1</td>\n",
       "    </tr>\n",
       "    <tr>\n",
       "      <th>1</th>\n",
       "      <td>2</td>\n",
       "      <td>38.0</td>\n",
       "      <td>1</td>\n",
       "      <td>0</td>\n",
       "      <td>71.2833</td>\n",
       "      <td>1</td>\n",
       "      <td>0</td>\n",
       "      <td>0</td>\n",
       "      <td>0</td>\n",
       "      <td>0</td>\n",
       "      <td>0</td>\n",
       "    </tr>\n",
       "    <tr>\n",
       "      <th>2</th>\n",
       "      <td>3</td>\n",
       "      <td>26.0</td>\n",
       "      <td>0</td>\n",
       "      <td>0</td>\n",
       "      <td>7.9250</td>\n",
       "      <td>1</td>\n",
       "      <td>0</td>\n",
       "      <td>1</td>\n",
       "      <td>0</td>\n",
       "      <td>0</td>\n",
       "      <td>1</td>\n",
       "    </tr>\n",
       "    <tr>\n",
       "      <th>3</th>\n",
       "      <td>4</td>\n",
       "      <td>35.0</td>\n",
       "      <td>1</td>\n",
       "      <td>0</td>\n",
       "      <td>53.1000</td>\n",
       "      <td>1</td>\n",
       "      <td>0</td>\n",
       "      <td>0</td>\n",
       "      <td>0</td>\n",
       "      <td>0</td>\n",
       "      <td>1</td>\n",
       "    </tr>\n",
       "    <tr>\n",
       "      <th>4</th>\n",
       "      <td>5</td>\n",
       "      <td>35.0</td>\n",
       "      <td>0</td>\n",
       "      <td>0</td>\n",
       "      <td>8.0500</td>\n",
       "      <td>0</td>\n",
       "      <td>0</td>\n",
       "      <td>1</td>\n",
       "      <td>1</td>\n",
       "      <td>0</td>\n",
       "      <td>1</td>\n",
       "    </tr>\n",
       "  </tbody>\n",
       "</table>\n",
       "</div>"
      ],
      "text/plain": [
       "   PassengerId   Age  family_members  parents     Fare  Survived  Pclass_2  \\\n",
       "0            1  22.0               1        0   7.2500         0         0   \n",
       "1            2  38.0               1        0  71.2833         1         0   \n",
       "2            3  26.0               0        0   7.9250         1         0   \n",
       "3            4  35.0               1        0  53.1000         1         0   \n",
       "4            5  35.0               0        0   8.0500         0         0   \n",
       "\n",
       "   Pclass_3  Sex_male  port_Q  port_S  \n",
       "0         1         1       0       1  \n",
       "1         0         0       0       0  \n",
       "2         1         0       0       1  \n",
       "3         0         0       0       1  \n",
       "4         1         1       0       1  "
      ]
     },
     "execution_count": 28,
     "metadata": {},
     "output_type": "execute_result"
    }
   ],
   "source": [
    "data2.head()"
   ]
  },
  {
   "cell_type": "code",
   "execution_count": 30,
   "id": "ce681ec3-bf0e-426e-bcf8-7cf2c1038c40",
   "metadata": {
    "execution": {
     "iopub.execute_input": "2023-06-20T18:30:44.455859Z",
     "iopub.status.busy": "2023-06-20T18:30:44.455489Z",
     "iopub.status.idle": "2023-06-20T18:30:44.460736Z",
     "shell.execute_reply": "2023-06-20T18:30:44.460042Z",
     "shell.execute_reply.started": "2023-06-20T18:30:44.455834Z"
    },
    "tags": []
   },
   "outputs": [
    {
     "data": {
      "text/plain": [
       "Index(['PassengerId', 'Age', 'family_members', 'parents', 'Fare', 'Survived',\n",
       "       'Pclass_2', 'Pclass_3', 'Sex_male', 'port_Q', 'port_S'],\n",
       "      dtype='object')"
      ]
     },
     "execution_count": 30,
     "metadata": {},
     "output_type": "execute_result"
    }
   ],
   "source": [
    "data2.columns"
   ]
  },
  {
   "cell_type": "markdown",
   "id": "99d8c1d9-88fc-4b73-8f75-43d13a882981",
   "metadata": {},
   "source": [
    "## Model Building"
   ]
  },
  {
   "cell_type": "code",
   "execution_count": 62,
   "id": "5c2bf4f7-9ef0-4653-a507-db64c70b1f79",
   "metadata": {
    "execution": {
     "iopub.execute_input": "2023-06-20T18:47:29.044143Z",
     "iopub.status.busy": "2023-06-20T18:47:29.043764Z",
     "iopub.status.idle": "2023-06-20T18:47:29.048569Z",
     "shell.execute_reply": "2023-06-20T18:47:29.047773Z",
     "shell.execute_reply.started": "2023-06-20T18:47:29.044117Z"
    },
    "tags": []
   },
   "outputs": [],
   "source": [
    "import seaborn as sns\n",
    "\n",
    "# Import statements for train/test splitting\n",
    "from sklearn.model_selection import train_test_split\n",
    "\n",
    "# Import statements for classification models\n",
    "from sklearn.linear_model import LogisticRegression\n",
    "from sklearn.tree import DecisionTreeClassifier\n",
    "from sklearn.ensemble import RandomForestClassifier\n",
    "from sklearn.metrics import roc_curve, roc_auc_score, auc\n",
    "from sklearn.model_selection import train_test_split, cross_val_score\n",
    "import numpy as np"
   ]
  },
  {
   "cell_type": "code",
   "execution_count": 63,
   "id": "14f10397-088d-4886-8a64-273bb1916657",
   "metadata": {
    "execution": {
     "iopub.execute_input": "2023-06-20T18:47:29.574058Z",
     "iopub.status.busy": "2023-06-20T18:47:29.573696Z",
     "iopub.status.idle": "2023-06-20T18:47:29.578866Z",
     "shell.execute_reply": "2023-06-20T18:47:29.578140Z",
     "shell.execute_reply.started": "2023-06-20T18:47:29.574033Z"
    },
    "tags": []
   },
   "outputs": [],
   "source": [
    "inputs = data2[['Age', 'family_members', 'parents', 'Fare', 'Pclass_2', 'Pclass_3', 'Sex_male', 'port_Q', 'port_S']]\n",
    "target = data2['Survived']"
   ]
  },
  {
   "cell_type": "code",
   "execution_count": 64,
   "id": "96b1b9d0-e7d3-4ae6-84df-1383595c57bb",
   "metadata": {
    "execution": {
     "iopub.execute_input": "2023-06-20T18:47:29.977654Z",
     "iopub.status.busy": "2023-06-20T18:47:29.977272Z",
     "iopub.status.idle": "2023-06-20T18:47:29.984427Z",
     "shell.execute_reply": "2023-06-20T18:47:29.983677Z",
     "shell.execute_reply.started": "2023-06-20T18:47:29.977630Z"
    },
    "tags": []
   },
   "outputs": [],
   "source": [
    "X_train, X_test, y_train,y_test = train_test_split(inputs,target,test_size=0.20,random_state=10,stratify=target)"
   ]
  },
  {
   "cell_type": "code",
   "execution_count": 65,
   "id": "07e02b4e-960d-4853-b2d3-35a491dd0ddf",
   "metadata": {
    "execution": {
     "iopub.execute_input": "2023-06-20T18:47:30.409527Z",
     "iopub.status.busy": "2023-06-20T18:47:30.409145Z",
     "iopub.status.idle": "2023-06-20T18:47:30.472737Z",
     "shell.execute_reply": "2023-06-20T18:47:30.471607Z",
     "shell.execute_reply.started": "2023-06-20T18:47:30.409503Z"
    },
    "tags": []
   },
   "outputs": [
    {
     "data": {
      "text/plain": [
       "LogisticRegression(max_iter=1000)"
      ]
     },
     "execution_count": 65,
     "metadata": {},
     "output_type": "execute_result"
    }
   ],
   "source": [
    "logit = LogisticRegression(max_iter=1000)\n",
    "logit.fit(X_train,y_train)"
   ]
  },
  {
   "cell_type": "code",
   "execution_count": 66,
   "id": "25827324-dbb9-4c45-8070-1fb3b3664b6b",
   "metadata": {
    "execution": {
     "iopub.execute_input": "2023-06-20T18:47:30.868883Z",
     "iopub.status.busy": "2023-06-20T18:47:30.868498Z",
     "iopub.status.idle": "2023-06-20T18:47:31.375245Z",
     "shell.execute_reply": "2023-06-20T18:47:31.374347Z",
     "shell.execute_reply.started": "2023-06-20T18:47:30.868857Z"
    },
    "tags": []
   },
   "outputs": [
    {
     "data": {
      "image/png": "[encoded data removed]",
      "text/plain": [
       "<Figure size 200x100 with 2 Axes>"
      ]
     },
     "metadata": {},
     "output_type": "display_data"
    },
    {
     "name": "stdout",
     "output_type": "stream",
     "text": [
      "              precision    recall  f1-score   support\n",
      "\n",
      "           0       0.82      0.88      0.85       110\n",
      "           1       0.78      0.68      0.73        69\n",
      "\n",
      "    accuracy                           0.80       179\n",
      "   macro avg       0.80      0.78      0.79       179\n",
      "weighted avg       0.80      0.80      0.80       179\n",
      "\n"
     ]
    },
    {
     "data": {
      "image/png": "[encoded data removed]",
      "text/plain": [
       "<Figure size 1000x800 with 1 Axes>"
      ]
     },
     "metadata": {},
     "output_type": "display_data"
    },
    {
     "name": "stdout",
     "output_type": "stream",
     "text": [
      "Cross-Validation Scores for: [0.84848485 0.82874332 0.85287433 0.84030749 0.8723574 ]\n",
      "Mean AUC: 0.8485534762913398\n",
      "Standard Deviation: 0.0144619505284309\n"
     ]
    }
   ],
   "source": [
    "y_pred = logit.predict(X_test)\n",
    "# compute the confusion matrix\n",
    "confusion_mtx = confusion_matrix(y_test, y_pred) \n",
    "\n",
    "# plot the confusion matrix\n",
    "f,ax = plt.subplots(figsize=(2, 1))\n",
    "sns.heatmap(confusion_mtx, annot=True, linewidths=0.01, cmap=\"Blues\", linecolor=\"gray\", fmt= '.1f',ax=ax)\n",
    "plt.xlabel(\"Predicted Label\")\n",
    "plt.ylabel(\"True Label\")\n",
    "plt.title(f\"Confusion Matrix:\")\n",
    "plt.show()\n",
    "\n",
    "print(classification_report(y_test,y_pred))\n",
    "\n",
    "y_probs = logit.predict_proba(X_test)\n",
    "\n",
    "# Keep probabilities of the positive class only.\n",
    "y_probs = y_probs[:, 1]\n",
    "\n",
    "# Compute the ROC curve\n",
    "fpr, tpr, thresholds = roc_curve(y_test, y_probs)\n",
    "\n",
    "# Compute Area Under the Curve (AUC)\n",
    "roc_auc = auc(fpr, tpr)\n",
    "\n",
    "# Plot ROC curve\n",
    "plt.figure(figsize=(10,8))\n",
    "plt.title(f'Receiver Operating Characteristic:')\n",
    "plt.plot(fpr, tpr, 'b', label = 'AUC = %0.2f' % roc_auc)\n",
    "plt.legend(loc = 'lower right')\n",
    "plt.plot([0, 1], [0, 1],'r--')\n",
    "plt.xlim([0, 1])\n",
    "plt.ylim([0, 1])\n",
    "plt.ylabel('True Positive Rate')\n",
    "plt.xlabel('False Positive Rate')\n",
    "plt.show()\n",
    "\n",
    " # Perform cross-validation\n",
    "cv_scores = cross_val_score(logit, inputs, target, cv=5, scoring='roc_auc')\n",
    "print(f\"Cross-Validation Scores for: {cv_scores}\")\n",
    "print(f\"Mean AUC: {np.mean(cv_scores)}\")\n",
    "print(f\"Standard Deviation: {np.std(cv_scores)}\")"
   ]
  },
  {
   "cell_type": "code",
   "execution_count": 80,
   "id": "2d2fe907-3ac4-442c-996e-b825c7399214",
   "metadata": {
    "execution": {
     "iopub.execute_input": "2023-06-20T19:12:45.535935Z",
     "iopub.status.busy": "2023-06-20T19:12:45.535548Z",
     "iopub.status.idle": "2023-06-20T19:12:45.541048Z",
     "shell.execute_reply": "2023-06-20T19:12:45.540269Z",
     "shell.execute_reply.started": "2023-06-20T19:12:45.535907Z"
    },
    "tags": []
   },
   "outputs": [
    {
     "name": "stdout",
     "output_type": "stream",
     "text": [
      "Feature: Sex_male, Importance: -2.5068708064804097\n",
      "Feature: Pclass_3, Importance: -1.8110826478089148\n",
      "Feature: Pclass_2, Importance: -0.6631003738266472\n",
      "Feature: port_S, Importance: -0.38196980635884104\n",
      "Feature: family_members, Importance: -0.26280316278391297\n",
      "Feature: parents, Importance: -0.1185590826556116\n",
      "Feature: Age, Importance: -0.035076717580562355\n",
      "Feature: port_Q, Importance: -0.011982642083199317\n",
      "Feature: Fare, Importance: 0.005775554406883139\n"
     ]
    }
   ],
   "source": [
    "coefficients = logit.coef_[0]\n",
    "feature_names = X_train.columns \n",
    "feature_importance = abs(coefficients)\n",
    "\n",
    "feature_importance_sorted = sorted(zip(feature_names, coefficients), key=lambda x: abs(x[1]), reverse=True)\n",
    "\n",
    "for feature, importance in feature_importance_sorted:\n",
    "    print(f\"Feature: {feature}, Importance: {importance}\")\n"
   ]
  },
  {
   "cell_type": "code",
   "execution_count": null,
   "id": "186be8b4-136d-4e49-8aed-864e874306da",
   "metadata": {
    "tags": []
   },
   "outputs": [],
   "source": []
  },
  {
   "cell_type": "code",
   "execution_count": null,
   "id": "046c5b0d-ba42-45df-beae-bbac7882861f",
   "metadata": {},
   "outputs": [],
   "source": []
  },
  {
   "cell_type": "code",
   "execution_count": null,
   "id": "56a1ef94-264c-45d6-a7b2-1007fe4d5473",
   "metadata": {},
   "outputs": [],
   "source": []
  }
 ],
 "metadata": {
  "kernelspec": {
   "display_name": "saturn (Python 3)",
   "language": "python",
   "name": "python3"
  },
  "language_info": {
   "codemirror_mode": {
    "name": "ipython",
    "version": 3
   },
   "file_extension": ".py",
   "mimetype": "text/x-python",
   "name": "python",
   "nbconvert_exporter": "python",
   "pygments_lexer": "ipython3",
   "version": "3.9.15"
  }
 },
 "nbformat": 4,
 "nbformat_minor": 5
}
